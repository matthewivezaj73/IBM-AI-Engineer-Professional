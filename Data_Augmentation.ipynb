{
 "cells": [
  {
   "cell_type": "markdown",
   "metadata": {},
   "source": [
    "<a href=\"http://cocl.us/pytorch_link_top\">\n",
    "    <img src=\"https://s3-api.us-geo.objectstorage.softlayer.net/cf-courses-data/CognitiveClass/DL0110EN/notebook_images%20/Pytochtop.png\" width=\"750\" alt=\"IBM Product \">\n",
    "</a> \n"
   ]
  },
  {
   "cell_type": "markdown",
   "metadata": {},
   "source": [
    "<p style=\"text-align:center\">\n",
    "    <a href=\"https://skills.network/?utm_medium=Exinfluencer&utm_source=Exinfluencer&utm_content=000026UJ&utm_term=10006555&utm_id=NA-SkillsNetwork-Channel-SkillsNetworkCoursesIBMDeveloperSkillsNetworkCV0101ENCoursera872-2023-01-01\">\n",
    "    <img src=\"https://cf-courses-data.s3.us.cloud-object-storage.appdomain.cloud/assets/logos/SN_web_lightmode.png\" width=\"200\" alt=\"Skills Network Logo\"  />\n",
    "    </a>\n",
    "</p>\n"
   ]
  },
  {
   "cell_type": "markdown",
   "metadata": {},
   "source": [
    "<h1>Data Augmentation </h1> \n"
   ]
  },
  {
   "cell_type": "markdown",
   "metadata": {},
   "source": [
    "<h2>Table of Contents</h2>\n",
    "\n",
    "In this lab, we train a Convolutional Neural Network with Regular data and Augmented data. The purpose of this lab is to show that the Augmented data improves generalization performance.\n",
    "\n",
    "Think of a scenario where a drone has to take a picture of an object. The drone is moving and the object can also possibly be moving. When an image is taken we arent always going to get perfect images. The subject may not be perfectly centered in the image or the subject may be rotated in the image. In this case, a model trained on perfectly centered or rotated images won't perform well. This is why we train a model on rotated data so it can perform well on imperfect images.\n",
    "\n",
    "In this assignment, we will use a dataset of digit images. We will have two models one trained on non rotated digits and one trained on rotated images and then we will test the models on a rotated testing dataset which will be more realistic and robust in terms of our scenario above.\n",
    "\n",
    "<ul>\n",
    "<li><a href=\"#Makeup_Data\">Get Some Data</a></li>\n",
    "<li><a href=\"#CNN\">Convolutional Neural Network</a></li>\n",
    "<li><a href=\"#R_training_data\">Rotated Training Data</a></li>\n",
    "\n",
    "</ul>\n",
    "<p>Estimated Time Needed: <strong>25 min</strong> 14 min to train model </p>\n",
    "\n",
    "<hr>\n"
   ]
  },
  {
   "cell_type": "markdown",
   "metadata": {},
   "source": [
    "<h2>Preparation</h2>\n"
   ]
  },
  {
   "cell_type": "code",
   "execution_count": 1,
   "metadata": {
    "tags": []
   },
   "outputs": [
    {
     "name": "stdout",
     "output_type": "stream",
     "text": [
      "Requirement already satisfied: torch in /home/jupyterlab/conda/envs/python/lib/python3.7/site-packages (1.13.1+cpu)\n",
      "Requirement already satisfied: torchvision in /home/jupyterlab/conda/envs/python/lib/python3.7/site-packages (0.14.1+cpu)\n",
      "Requirement already satisfied: torchaudio in /home/jupyterlab/conda/envs/python/lib/python3.7/site-packages (0.13.1+cpu)\n",
      "Requirement already satisfied: typing-extensions in /home/jupyterlab/conda/envs/python/lib/python3.7/site-packages (from torch) (4.5.0)\n",
      "Requirement already satisfied: numpy in /home/jupyterlab/conda/envs/python/lib/python3.7/site-packages (from torchvision) (1.21.6)\n",
      "Requirement already satisfied: requests in /home/jupyterlab/conda/envs/python/lib/python3.7/site-packages (from torchvision) (2.29.0)\n",
      "Requirement already satisfied: pillow!=8.3.*,>=5.3.0 in /home/jupyterlab/conda/envs/python/lib/python3.7/site-packages (from torchvision) (8.1.0)\n",
      "Requirement already satisfied: charset-normalizer<4,>=2 in /home/jupyterlab/conda/envs/python/lib/python3.7/site-packages (from requests->torchvision) (3.1.0)\n",
      "Requirement already satisfied: idna<4,>=2.5 in /home/jupyterlab/conda/envs/python/lib/python3.7/site-packages (from requests->torchvision) (3.4)\n",
      "Requirement already satisfied: urllib3<1.27,>=1.21.1 in /home/jupyterlab/conda/envs/python/lib/python3.7/site-packages (from requests->torchvision) (1.26.15)\n",
      "Requirement already satisfied: certifi>=2017.4.17 in /home/jupyterlab/conda/envs/python/lib/python3.7/site-packages (from requests->torchvision) (2023.5.7)\n"
     ]
    }
   ],
   "source": [
    "!pip3 install torch torchvision torchaudio"
   ]
  },
  {
   "cell_type": "code",
   "execution_count": 2,
   "metadata": {
    "tags": []
   },
   "outputs": [
    {
     "name": "stdout",
     "output_type": "stream",
     "text": [
      "--2023-08-25 15:57:45--  https://s3-api.us-geo.objectstorage.softlayer.net/cf-courses-data/CognitiveClass/meet_up/12.02.2020/normal.pt\n",
      "Resolving s3-api.us-geo.objectstorage.softlayer.net (s3-api.us-geo.objectstorage.softlayer.net)... 67.228.254.196\n",
      "Connecting to s3-api.us-geo.objectstorage.softlayer.net (s3-api.us-geo.objectstorage.softlayer.net)|67.228.254.196|:443... connected.\n",
      "HTTP request sent, awaiting response... 200 OK\n",
      "Length: 75134 (73K) [application/octet-stream]\n",
      "Saving to: ‘normal.pt’\n",
      "\n",
      "normal.pt           100%[===================>]  73.37K  --.-KB/s    in 0.002s  \n",
      "\n",
      "2023-08-25 15:57:46 (37.6 MB/s) - ‘normal.pt’ saved [75134/75134]\n",
      "\n"
     ]
    }
   ],
   "source": [
    "# Download a Pretrained Model because training takes a long time\n",
    "!wget https://s3-api.us-geo.objectstorage.softlayer.net/cf-courses-data/CognitiveClass/meet_up/12.02.2020/normal.pt"
   ]
  },
  {
   "cell_type": "code",
   "execution_count": 3,
   "metadata": {
    "tags": []
   },
   "outputs": [
    {
     "name": "stdout",
     "output_type": "stream",
     "text": [
      "--2023-08-25 15:57:51--  https://s3-api.us-geo.objectstorage.softlayer.net/cf-courses-data/CognitiveClass/meet_up/12.02.2020/rotated_data.pt\n",
      "Resolving s3-api.us-geo.objectstorage.softlayer.net (s3-api.us-geo.objectstorage.softlayer.net)... 67.228.254.196\n",
      "Connecting to s3-api.us-geo.objectstorage.softlayer.net (s3-api.us-geo.objectstorage.softlayer.net)|67.228.254.196|:443... connected.\n",
      "HTTP request sent, awaiting response... 200 OK\n",
      "Length: 75134 (73K) [application/octet-stream]\n",
      "Saving to: ‘rotated_data.pt’\n",
      "\n",
      "rotated_data.pt     100%[===================>]  73.37K  --.-KB/s    in 0.001s  \n",
      "\n",
      "2023-08-25 15:57:51 (50.4 MB/s) - ‘rotated_data.pt’ saved [75134/75134]\n",
      "\n"
     ]
    }
   ],
   "source": [
    "# Download a Pretrained Model Trained on Augmented Data because training takes a long time\n",
    "!wget https://s3-api.us-geo.objectstorage.softlayer.net/cf-courses-data/CognitiveClass/meet_up/12.02.2020/rotated_data.pt"
   ]
  },
  {
   "cell_type": "code",
   "execution_count": 4,
   "metadata": {
    "tags": []
   },
   "outputs": [
    {
     "name": "stdout",
     "output_type": "stream",
     "text": [
      "Collecting Pillow==6.2.2\n",
      "  Downloading Pillow-6.2.2-cp37-cp37m-manylinux1_x86_64.whl (2.1 MB)\n",
      "\u001b[2K     \u001b[90m━━━━━━━━━━━━━━━━━━━━━━━━━━━━━━━━━━━━━━━━\u001b[0m \u001b[32m2.1/2.1 MB\u001b[0m \u001b[31m74.6 MB/s\u001b[0m eta \u001b[36m0:00:00\u001b[0m\n",
      "\u001b[?25hInstalling collected packages: Pillow\n",
      "  Attempting uninstall: Pillow\n",
      "    Found existing installation: Pillow 8.1.0\n",
      "    Uninstalling Pillow-8.1.0:\n",
      "      Successfully uninstalled Pillow-8.1.0\n",
      "Successfully installed Pillow-6.2.2\n"
     ]
    }
   ],
   "source": [
    "# Library to Show Images\n",
    "!pip install Pillow==6.2.2"
   ]
  },
  {
   "cell_type": "markdown",
   "metadata": {},
   "source": [
    "***Restart the kernel***\n"
   ]
  },
  {
   "cell_type": "code",
   "execution_count": 5,
   "metadata": {
    "tags": []
   },
   "outputs": [],
   "source": [
    "# Import the libraries we need to use in this lab\n",
    "# Using the following line code to install the torchvision library\n",
    "# !conda install -y torchvision\n",
    "\n",
    "# PyTorch Library\n",
    "import torch \n",
    "# PyTorch Neural Network Library\n",
    "import torch.nn as nn\n",
    "# Allows us to transform data\n",
    "import torchvision.transforms as transforms\n",
    "# Used to graph data and loss curves\n",
    "import matplotlib.pylab as plt\n",
    "# Allows us to use arrays to manipulate and store data\n",
    "import numpy as np\n",
    "# Allows us to download the dataset\n",
    "import torchvision.datasets as dsets\n",
    "# Allows us to access the filesystem\n",
    "import os  "
   ]
  },
  {
   "cell_type": "markdown",
   "metadata": {},
   "source": [
    "Some useful functions for plotting \n"
   ]
  },
  {
   "cell_type": "markdown",
   "metadata": {},
   "source": [
    "Plot Cost and Accuracy vs Epoch Graph\n"
   ]
  },
  {
   "cell_type": "code",
   "execution_count": 6,
   "metadata": {
    "tags": []
   },
   "outputs": [],
   "source": [
    "def plot_cost_accuracy(checkpoint):\n",
    "\n",
    "# Plot the cost and accuracy\n",
    "\n",
    "    fig, ax1 = plt.subplots()\n",
    "    color = 'tab:red'\n",
    "    ax1.plot(checkpoint['cost'], color=color)\n",
    "    ax1.set_xlabel('epoch', color=color)\n",
    "    ax1.set_ylabel('Cost', color=color)\n",
    "    ax1.tick_params(axis='y', color=color)\n",
    "    \n",
    "    ax2 = ax1.twinx()  \n",
    "    color = 'tab:blue'\n",
    "    ax2.set_ylabel('accuracy', color=color) \n",
    "    ax2.set_xlabel('epoch', color=color)\n",
    "    ax2.plot( checkpoint['accuracy'], color=color)\n",
    "    ax2.tick_params(axis='y', color=color)\n",
    "    fig.tight_layout()"
   ]
  },
  {
   "cell_type": "markdown",
   "metadata": {},
   "source": [
    "Define the function <code>show_data</code> to plot out data samples as images.\n"
   ]
  },
  {
   "cell_type": "code",
   "execution_count": 7,
   "metadata": {
    "tags": []
   },
   "outputs": [],
   "source": [
    "def show_data(data_sample):\n",
    "    plt.imshow(data_sample[0].numpy().reshape(IMAGE_SIZE, IMAGE_SIZE), cmap='gray')\n",
    "    plt.title('y = '+ str(data_sample[1]))"
   ]
  },
  {
   "cell_type": "markdown",
   "metadata": {},
   "source": [
    "Plot first 5 misclassified samples \n"
   ]
  },
  {
   "cell_type": "code",
   "execution_count": 8,
   "metadata": {
    "tags": []
   },
   "outputs": [],
   "source": [
    "def plot_mis_classified(model, dataset):\n",
    "    count=0\n",
    "    for x, y in torch.utils.data.DataLoader(dataset=dataset, batch_size=1):\n",
    "        z = model(x)\n",
    "        _, yhat = torch.max(z, 1)\n",
    "        if yhat != y:\n",
    "            show_data((x, y))\n",
    "            plt.show()\n",
    "            count += 1\n",
    "        if count >= 5:\n",
    "            break "
   ]
  },
  {
   "cell_type": "markdown",
   "metadata": {},
   "source": [
    "<!--Empty Space for separating topics-->\n"
   ]
  },
  {
   "cell_type": "markdown",
   "metadata": {},
   "source": [
    "<h2 id=\"Makeup_Data\">Load Data</h2> \n"
   ]
  },
  {
   "cell_type": "markdown",
   "metadata": {},
   "source": [
    "We create a transform object  <code>compose</code> one will resize the image and convert it to a tensor, the second will also rotate the image Randomly rotate the image.\n"
   ]
  },
  {
   "cell_type": "code",
   "execution_count": 9,
   "metadata": {
    "tags": []
   },
   "outputs": [],
   "source": [
    "# Size of the images are 16 by 16\n",
    "IMAGE_SIZE = 16\n",
    "\n",
    "# Creating a group of transformations to created a rotated dataset\n",
    "# Resizes the images, randomly rotates it, and then converts it to a tensor\n",
    "compose_rotate = transforms.Compose([transforms.Resize((IMAGE_SIZE, IMAGE_SIZE)),transforms.RandomAffine(45), transforms.ToTensor()])\n",
    "\n",
    "# Creating a group of transformations to created a non rotated dataset\n",
    "# Resizes the images then converts it to a tensor\n",
    "compose = transforms.Compose([transforms.Resize((IMAGE_SIZE, IMAGE_SIZE)), transforms.ToTensor()])"
   ]
  },
  {
   "cell_type": "markdown",
   "metadata": {},
   "source": [
    "Load the training dataset by setting the parameters <code>train</code> to <code>True</code>. We use the transform defined above, one with rotated data one without.\n"
   ]
  },
  {
   "cell_type": "code",
   "execution_count": 10,
   "metadata": {
    "tags": []
   },
   "outputs": [],
   "source": [
    "# The transform parameters is set to the corresponding compose\n",
    "train_dataset_rotate = dsets.MNIST(root='./data', train=True, download=True, transform=compose_rotate)\n",
    "train_dataset = dsets.MNIST(root='./data', train=True, download=True, transform=compose)"
   ]
  },
  {
   "cell_type": "markdown",
   "metadata": {},
   "source": [
    "Load the testing dataset by setting the parameters train to <code>False</code>, where the data is <b>ALL</b> rotated.\n"
   ]
  },
  {
   "cell_type": "code",
   "execution_count": 11,
   "metadata": {
    "tags": []
   },
   "outputs": [],
   "source": [
    "# Load the testing dataset\n",
    "validation_dataset = dsets.MNIST(root='./data', train=False, download=True, transform=compose_rotate)"
   ]
  },
  {
   "cell_type": "markdown",
   "metadata": {},
   "source": [
    "Each element in the rectangular tensor corresponds to a number representing a pixel intensity as demonstrated by the following image.\n"
   ]
  },
  {
   "cell_type": "markdown",
   "metadata": {},
   "source": [
    "<img src=\"https://s3-api.us-geo.objectstorage.softlayer.net/cf-courses-data/CognitiveClass/DL0110EN/notebook_images%20/chapter%206/6.2.1imagenet.png\" width=\"550\" alt=\"MNIST data image\">\n"
   ]
  },
  {
   "cell_type": "markdown",
   "metadata": {},
   "source": [
    "Plot the first sample \n"
   ]
  },
  {
   "cell_type": "code",
   "execution_count": 12,
   "metadata": {
    "tags": []
   },
   "outputs": [
    {
     "data": {
      "image/png": "[encoded data removed]",
      "text/plain": [
       "<Figure size 640x480 with 1 Axes>"
      ]
     },
     "metadata": {},
     "output_type": "display_data"
    }
   ],
   "source": [
    "# The image for the first data sample\n",
    "show_data(train_dataset[0])"
   ]
  },
  {
   "cell_type": "markdown",
   "metadata": {},
   "source": [
    "Print out the first label, as we can see this digit is a five\n"
   ]
  },
  {
   "cell_type": "code",
   "execution_count": 13,
   "metadata": {
    "tags": []
   },
   "outputs": [
    {
     "data": {
      "text/plain": [
       "5"
      ]
     },
     "execution_count": 13,
     "metadata": {},
     "output_type": "execute_result"
    }
   ],
   "source": [
    "# The label for the first data element\n",
    "train_dataset[0][1]"
   ]
  },
  {
   "cell_type": "markdown",
   "metadata": {},
   "source": [
    "Now let's plot the first sample of the rotated training dataset\n"
   ]
  },
  {
   "cell_type": "code",
   "execution_count": 14,
   "metadata": {
    "tags": []
   },
   "outputs": [
    {
     "data": {
      "image/png": "[encoded data removed]",
      "text/plain": [
       "<Figure size 640x480 with 1 Axes>"
      ]
     },
     "metadata": {},
     "output_type": "display_data"
    }
   ],
   "source": [
    "show_data(train_dataset_rotate[0])"
   ]
  },
  {
   "cell_type": "markdown",
   "metadata": {},
   "source": [
    "We can see that this is the same sample but it is rotated as we wanted\n"
   ]
  },
  {
   "cell_type": "markdown",
   "metadata": {},
   "source": [
    "<!--Empty Space for separating topics-->\n"
   ]
  },
  {
   "cell_type": "markdown",
   "metadata": {},
   "source": [
    "<h2 id=\"CNN\">Build a Convolutional Neural Network Class</h2>\n"
   ]
  },
  {
   "cell_type": "markdown",
   "metadata": {},
   "source": [
    "Build a Convolutional Network class with two Convolutional layers and one fully connected layer. Pre-determine the size of the final output matrix. The parameters in the constructor are the number of output channels for the first and second layers.\n"
   ]
  },
  {
   "cell_type": "code",
   "execution_count": 15,
   "metadata": {
    "tags": []
   },
   "outputs": [],
   "source": [
    "class CNN(nn.Module):\n",
    "    \n",
    "    # Contructor\n",
    "    def __init__(self, out_1=16, out_2=32):\n",
    "        super(CNN, self).__init__()\n",
    "        \n",
    "        # The reason we start with 1 channel is because we have a single black and white image\n",
    "        # Channel Width after this layer is 16\n",
    "        self.cnn1 = nn.Conv2d(in_channels=1, out_channels=out_1, kernel_size=5, padding=2)\n",
    "        # Channel Wifth after this layer is 8\n",
    "        self.maxpool1=nn.MaxPool2d(kernel_size=2)\n",
    "        \n",
    "        # Channel Width after this layer is 8\n",
    "        self.cnn2 = nn.Conv2d(in_channels=out_1, out_channels=out_2, kernel_size=5, stride=1, padding=2)\n",
    "        # Channel Width after this layer is 4\n",
    "        self.maxpool2=nn.MaxPool2d(kernel_size=2)\n",
    "        # In total we have out_2 (32) channels which are each 4 * 4 in size based on the width calculation above. Channels are squares.\n",
    "        # The output is a value for each class\n",
    "        self.fc1 = nn.Linear(out_2 * 4 * 4, 10)\n",
    "    \n",
    "    # Prediction\n",
    "    def forward(self, x):\n",
    "        # Puts the X value through each cnn, relu, and pooling layer and it is flattened for input into the fully connected layer\n",
    "        x = self.cnn1(x)\n",
    "        x = torch.relu(x)\n",
    "        x = self.maxpool1(x)\n",
    "        x = self.cnn2(x)\n",
    "        x = torch.relu(x)\n",
    "        x = self.maxpool2(x)\n",
    "        x = x.view(x.size(0), -1)\n",
    "        x = self.fc1(x)\n",
    "        return x\n",
    "\n",
    "    # Outputs result of each stage of the CNN, relu, and pooling layers\n",
    "    def activations(self, x):\n",
    "        # Outputs activation this is not necessary\n",
    "        z1 = self.cnn1(x)\n",
    "        a1 = torch.relu(z1)\n",
    "        out = self.maxpool1(a1)\n",
    "        \n",
    "        z2 = self.cnn2(out)\n",
    "        a2 = torch.relu(z2)\n",
    "        out1 = self.maxpool2(a2)\n",
    "        out = out.view(out.size(0),-1)\n",
    "        return z1, a1, z2, a2, out1,out"
   ]
  },
  {
   "cell_type": "markdown",
   "metadata": {},
   "source": [
    "<h2 id=\"regular_data\">Regular Data</h2> \n"
   ]
  },
  {
   "cell_type": "markdown",
   "metadata": {},
   "source": [
    "Define the Convolutional Neural Network Classifier, Criterion function, Optimizer, and Train the Model\n"
   ]
  },
  {
   "cell_type": "code",
   "execution_count": 16,
   "metadata": {
    "tags": []
   },
   "outputs": [],
   "source": [
    "# Create the model object to be trained on regular data using CNN class\n",
    "model = CNN(out_1=16, out_2=32)"
   ]
  },
  {
   "cell_type": "markdown",
   "metadata": {},
   "source": [
    "Define the loss function, the optimizer, and the dataset loader \n"
   ]
  },
  {
   "cell_type": "code",
   "execution_count": 17,
   "metadata": {
    "tags": []
   },
   "outputs": [],
   "source": [
    "# We create a criterion which will measure loss\n",
    "criterion = nn.CrossEntropyLoss()\n",
    "learning_rate = 0.1\n",
    "# Create an optimizer that updates model parameters using the learning rate and gradient\n",
    "optimizer = torch.optim.SGD(model.parameters(), lr = learning_rate)\n",
    "# Create a Data Loader for the training data with a batch size of 100 \n",
    "train_loader = torch.utils.data.DataLoader(dataset=train_dataset, batch_size=100)\n",
    "# Create a Data Loader for the rotated validation data with a batch size of 5000 \n",
    "validation_loader = torch.utils.data.DataLoader(dataset=validation_dataset, batch_size=5000)"
   ]
  },
  {
   "cell_type": "markdown",
   "metadata": {},
   "source": [
    "This cell will train the model, we will comment it out as it takes a long time to run. You can change the block type from Raw to Code and run it or you can load the trained model in the next cell. Notice that we are not only training and saving the model here but we are also keeping track of important data like the cost and accuracy throughout the training process.\n"
   ]
  },
  {
   "cell_type": "raw",
   "metadata": {},
   "source": [
    "# Train the model\n",
    "import os  \n",
    "\n",
    "# Location to save data\n",
    "file_normal = os.path.join(os.getcwd(), 'normal.pt')\n",
    "\n",
    "# All the data we are saving\n",
    "checkpoint={\n",
    "            # Saving the number of epochs the models was trained for\n",
    "            'epoch': None,\n",
    "            # Saving the models parameters which will allow us to recreate the trained model\n",
    "            'model_state_dict': None,\n",
    "            # Saving the optimizers parameters\n",
    "            'optimizer_state_dict': None,\n",
    "            # Saving the loss on the training dataset for the last batch of the last epoch\n",
    "            'loss': None,\n",
    "            # Saving the cost on the training dataset for each epoch\n",
    "            'cost': [],\n",
    "            # Saving the accuracy for the testing dataset for each epoch\n",
    "            'accuracy': []}\n",
    "            \n",
    "# Number of epochs to train model\n",
    "n_epochs = 5\n",
    "\n",
    "# Size of the testing dataset\n",
    "N_test = len(validation_dataset)\n",
    "\n",
    "# Training for the number of epochs we want\n",
    "for epoch in range(n_epochs):\n",
    "    # Variable to keep track of cost for each epoch\n",
    "    cost = 0\n",
    "    # For each batch in the training dataset\n",
    "    for x, y in train_loader:\n",
    "        # Resets the calculated gradient value, this must be done each time as it accumulates if we do not reset\n",
    "        optimizer.zero_grad()\n",
    "        # Makes a prediction on the image\n",
    "        z = model(x)\n",
    "        # Calculate the loss between the prediction and actual class\n",
    "        loss = criterion(z, y)\n",
    "        # Calculates the gradient value with respect to each weight and bias\n",
    "        loss.backward()\n",
    "        # Updates the weight and bias according to calculated gradient value\n",
    "        optimizer.step()\n",
    "      \n",
    "        # Saves the number of epochs we trained for  \n",
    "        checkpoint['epochs'] = n_epochs\n",
    "        # Saves the models parameters\n",
    "        checkpoint['model_state_dict'] = model.state_dict()\n",
    "        # Saves the optimizers paramters\n",
    "        checkpoint['optimizer_state_dict'] = optimizer.state_dict()\n",
    "        # Saves the loss for the last batch so ultimately this will be the loss for the last batch of the last epoch\n",
    "        checkpoint['loss'] = loss\n",
    "        # Accumulates the loss\n",
    "        cost += loss.item()\n",
    "        \n",
    "     \n",
    "    # Counter for the correct number of predictions        \n",
    "    correct = 0\n",
    "        \n",
    "    # For each batch in the validation dataset\n",
    "    for x_test, y_test in validation_loader:\n",
    "        # Make a prediction\n",
    "        z = model(x_test)\n",
    "        # Get the class that has the maximum value\n",
    "        _, yhat = torch.max(z.data, 1)\n",
    "        # Counts the number of correct predictions made\n",
    "        correct += (yhat == y_test).sum().item()\n",
    " \n",
    "    accuracy = correct / N_test\n",
    "    print(accuracy)\n",
    "    # Appends the cost of the epoch to a list\n",
    "    checkpoint['cost'].append(cost) \n",
    "    # Appends the accuracy of the epoch to a list\n",
    "    checkpoint['accuracy'].append(accuracy)\n",
    "    # Saves the data in checkpoint to the file location\n",
    "    torch.save(checkpoint, file_normal) "
   ]
  },
  {
   "cell_type": "markdown",
   "metadata": {},
   "source": [
    "<h3 id=\"Result\">Analyze Results</h3> \n"
   ]
  },
  {
   "cell_type": "markdown",
   "metadata": {},
   "source": [
    "Loads the data which is saved in `normal.pt`\n"
   ]
  },
  {
   "cell_type": "code",
   "execution_count": 18,
   "metadata": {
    "tags": []
   },
   "outputs": [],
   "source": [
    "checkpoint_normal = torch.load(os.path.join(os.getcwd(),'normal.pt'))"
   ]
  },
  {
   "cell_type": "markdown",
   "metadata": {},
   "source": [
    "Plot Accuracy and Cost vs Epoch Graph\n"
   ]
  },
  {
   "cell_type": "code",
   "execution_count": 19,
   "metadata": {
    "tags": []
   },
   "outputs": [
    {
     "data": {
      "image/png": "[encoded data removed]",
      "text/plain": [
       "<Figure size 640x480 with 2 Axes>"
      ]
     },
     "metadata": {},
     "output_type": "display_data"
    }
   ],
   "source": [
    "# Using the helper function defined at the top and the cost and accuracy lists that we saved\n",
    "plot_cost_accuracy(checkpoint_normal)"
   ]
  },
  {
   "cell_type": "markdown",
   "metadata": {},
   "source": [
    "Five misclassified samples\n"
   ]
  },
  {
   "cell_type": "code",
   "execution_count": null,
   "metadata": {},
   "outputs": [],
   "source": [
    "# Using the model parameters we saved we load them into a model to recreate the trained model\n",
    "model.load_state_dict(checkpoint_normal['model_state_dict'])\n",
    "# Setting the model to evaluation mode\n",
    "model.eval()\n",
    "# Using the helper function plot the first five misclassified samples\n",
    "plot_mis_classified(model,validation_dataset)"
   ]
  },
  {
   "cell_type": "markdown",
   "metadata": {},
   "source": [
    "<!--Empty Space for separating topics-->\n"
   ]
  },
  {
   "cell_type": "markdown",
   "metadata": {},
   "source": [
    "<h2 id=\"R_training_data\">Rotated Training Data</h2> \n"
   ]
  },
  {
   "cell_type": "markdown",
   "metadata": {},
   "source": [
    "Plot the loss and accuracy on the validation data:\n"
   ]
  },
  {
   "cell_type": "code",
   "execution_count": null,
   "metadata": {},
   "outputs": [],
   "source": [
    "# Create the model object using CNN class\n",
    "model_r = CNN(out_1=16, out_2=32)\n",
    "# We create a criterion which will measure loss\n",
    "criterion = nn.CrossEntropyLoss()\n",
    "learning_rate = 0.1\n",
    "# Create an optimizer that updates model parameters using the learning rate and gradient\n",
    "optimizer = torch.optim.SGD(model_r.parameters(), lr = learning_rate)\n",
    "# Create a Data Loader for the rotated training data with a batch size of 100 \n",
    "train_loader = torch.utils.data.DataLoader(dataset=train_dataset_rotate, batch_size=100)\n",
    "# Create a Data Loader for the rotated validation data with a batch size of 5000 \n",
    "validation_loader = torch.utils.data.DataLoader(dataset=validation_dataset, batch_size=5000)"
   ]
  },
  {
   "cell_type": "markdown",
   "metadata": {},
   "source": [
    "This cell will train the model, we will comment it out as it takes a long time to run. You can change the block type from Raw to Code and run it or you can load the trained model in the next cell.\n"
   ]
  },
  {
   "cell_type": "raw",
   "metadata": {},
   "source": [
    "# Location to save data\n",
    "file_rotated = os.path.join(os.getcwd(), 'rotated_data.pt')\n",
    "\n",
    "# All the data we are saving\n",
    "checkpoint={\n",
    "            # Saving the number of epochs the models was trained for\n",
    "            'epoch': None,\n",
    "            # Saving the models parameters which will allow us to recreate the trained model\n",
    "            'model_state_dict': None,\n",
    "            # Saving the optimizers parameters\n",
    "            'optimizer_state_dict': None,\n",
    "            # Saving the loss on the training dataset for the last batch of the last epoch\n",
    "            'loss': None,\n",
    "            # Saving the cost on the training dataset for each epoch\n",
    "            'cost': [],\n",
    "            # Saving the accuracy for the testing dataset for each epoch\n",
    "            'accuracy': []}\n",
    "            \n",
    "# Number of epochs to train model            \n",
    "n_epochs = 5\n",
    "\n",
    "# Size of the testing dataset\n",
    "N_test = len(validation_dataset)\n",
    "\n",
    "# Training for the number of epochs we want\n",
    "for epoch in range(n_epochs):\n",
    "    # Variable to keep track of cost for each epoch\n",
    "    cost = 0\n",
    "    # For each batch in the training dataset\n",
    "    for x, y in train_loader:\n",
    "        # Resets the calculated gradient value, this must be done each time as it accumulates if we do not reset\n",
    "        optimizer.zero_grad()\n",
    "        # Makes a prediction on the image\n",
    "        z = model_r(x)\n",
    "        # Calculate the loss between the prediction and actual class\n",
    "        loss = criterion(z, y)\n",
    "        # Calculates the gradient value with respect to each weight and bias\n",
    "        loss.backward()\n",
    "        # Updates the weight and bias according to calculated gradient value\n",
    "        optimizer.step()\n",
    "      \n",
    "        # Saves the number of epochs we trained for  \n",
    "        checkpoint['epochs'] = n_epochs\n",
    "        # Saves the models parameters\n",
    "        checkpoint['model_state_dict'] = model.state_dict()\n",
    "        # Saves the optimizers paramters\n",
    "        checkpoint['optimizer_state_dict'] = optimizer.state_dict()\n",
    "        # Saves the loss for the last batch so ultimately this will be the loss for the last batch of the last epoch\n",
    "        checkpoint['loss'] = loss\n",
    "        # Accumulates the loss\n",
    "        cost+=loss.item()\n",
    "        \n",
    "     \n",
    "    # Counter for the correct number of predictions        \n",
    "    correct = 0\n",
    "        \n",
    "    # For each batch in the validation dataset\n",
    "    for x_test, y_test in validation_loader:\n",
    "        # Make a prediction\n",
    "        z = model_r(x_test)\n",
    "        # Get the class that has the maximum value\n",
    "        _, yhat = torch.max(z.data, 1)\n",
    "        # Counts the number of correct predictions made\n",
    "        correct += (yhat == y_test).sum().item()\n",
    " \n",
    "    accuracy = correct / N_test\n",
    "    print(accuracy)\n",
    "    # Appends the cost of the epoch to a list\n",
    "    checkpoint['cost'].append(cost) \n",
    "    # Appends the accuracy of the epoch to a list\n",
    "    checkpoint['accuracy'].append(accuracy)\n",
    "    # Saves the data in checkpoint to the file location\n",
    "    torch.save(checkpoint, file_rotated) "
   ]
  },
  {
   "cell_type": "markdown",
   "metadata": {},
   "source": [
    "<h3 id=\"Result\">Analyze Results</h3> \n"
   ]
  },
  {
   "cell_type": "markdown",
   "metadata": {},
   "source": [
    "Loads the data which is saved in `rotated_data.pt`\n"
   ]
  },
  {
   "cell_type": "code",
   "execution_count": null,
   "metadata": {},
   "outputs": [],
   "source": [
    "checkpoint_rotated= torch.load(os.path.join(os.getcwd(),'rotated_data.pt'))"
   ]
  },
  {
   "cell_type": "markdown",
   "metadata": {},
   "source": [
    "Plot Accuracy and Cost vs Epoch Graph\n"
   ]
  },
  {
   "cell_type": "code",
   "execution_count": null,
   "metadata": {},
   "outputs": [],
   "source": [
    "# Using the helper function defined at the top and the cost and accuracy lists that we saved\n",
    "plot_cost_accuracy(checkpoint_rotated)"
   ]
  },
  {
   "cell_type": "markdown",
   "metadata": {},
   "source": [
    "Five misclassified samples\n"
   ]
  },
  {
   "cell_type": "code",
   "execution_count": null,
   "metadata": {},
   "outputs": [],
   "source": [
    "# Using the model parameters we saved we load them into a model to recreate the trained model\n",
    "model_r.load_state_dict(checkpoint_rotated['model_state_dict'])\n",
    "# Setting the model to evaluation mode\n",
    "model.eval()\n",
    "# Using the helper function plot the first five misclassified samples\n",
    "plot_mis_classified(model_r,validation_dataset)"
   ]
  },
  {
   "cell_type": "markdown",
   "metadata": {},
   "source": [
    "## Summary \n"
   ]
  },
  {
   "cell_type": "markdown",
   "metadata": {},
   "source": [
    "As you can see in the two Cost and Accuracy vs Epoch Graph the model trained on rotated data performs much better on the rotated validation data, 79% vs 95%+. By creating and training on rotated data allows the model to learn from unique data and have increased exposure to real life situations because data is not always perfect or rotated correctly.\n"
   ]
  },
  {
   "cell_type": "markdown",
   "metadata": {},
   "source": [
    "<!--Empty Space for separating topics-->\n"
   ]
  },
  {
   "cell_type": "markdown",
   "metadata": {},
   "source": [
    "<a href=\"http://cocl.us/pytorch_link_bottom\">\n",
    "    <img src=\"https://s3-api.us-geo.objectstorage.softlayer.net/cf-courses-data/CognitiveClass/DL0110EN/notebook_images%20/notebook_bottom%20.png\" width=\"750\" alt=\"PyTorch Bottom\">\n",
    "</a>\n"
   ]
  },
  {
   "cell_type": "markdown",
   "metadata": {},
   "source": [
    "<h2>About the Authors:</h2> \n",
    "\n",
    "<a href=\"https://www.linkedin.com/in/joseph-s-50398b136/?utm_medium=Exinfluencer&utm_source=Exinfluencer&utm_content=000026UJ&utm_term=10006555&utm_id=NA-SkillsNetwork-Channel-SkillsNetworkCoursesIBMDeveloperSkillsNetworkCV0101ENCoursera872-2023-01-01\">Joseph Santarcangelo</a> has a PhD in Electrical Engineering, his research focused on using machine learning, signal processing, and computer vision to determine how videos impact human cognition. Joseph has been working for IBM since he completed his PhD.\n"
   ]
  },
  {
   "cell_type": "markdown",
   "metadata": {},
   "source": [
    "Other contributors: <a href=\"https://www.linkedin.com/in/michelleccarey/?utm_medium=Exinfluencer&utm_source=Exinfluencer&utm_content=000026UJ&utm_term=10006555&utm_id=NA-SkillsNetwork-Channel-SkillsNetworkCoursesIBMDeveloperSkillsNetworkCV0101ENCoursera872-2023-01-01\">Michelle Carey</a>, <a href=\"www.linkedin.com/in/jiahui-mavis-zhou-a4537814a\">Mavis Zhou</a>\n"
   ]
  },
  {
   "cell_type": "markdown",
   "metadata": {},
   "source": [
    "Thanks to Magnus <a href=\"http://www.hvass-labs.org/?utm_medium=Exinfluencer&utm_source=Exinfluencer&utm_content=000026UJ&utm_term=10006555&utm_id=NA-SkillsNetwork-Channel-SkillsNetworkCoursesIBMDeveloperSkillsNetworkCV0101ENCoursera872-2023-01-01\">Erik Hvass Pedersen</a> whose tutorials helped me understand Convolutional Neural Networks\n"
   ]
  },
  {
   "cell_type": "markdown",
   "metadata": {},
   "source": [
    "<hr>\n"
   ]
  },
  {
   "cell_type": "markdown",
   "metadata": {},
   "source": [
    "Copyright &copy; 2018 <a href=\"cognitiveclass.ai?utm_source=bducopyrightlink&utm_medium=dswb&utm_campaign=bdu\">cognitiveclass.ai</a>. This notebook and its source code are released under the terms of the <a href=\"https://bigdatauniversity.com/mit-license/?utm_medium=Exinfluencer&utm_source=Exinfluencer&utm_content=000026UJ&utm_term=10006555&utm_id=NA-SkillsNetwork-Channel-SkillsNetworkCoursesIBMDeveloperSkillsNetworkCV0101ENCoursera872-2023-01-01\">MIT License</a>.\n"
   ]
  }
 ],
 "metadata": {
  "kernelspec": {
   "display_name": "Python",
   "language": "python",
   "name": "conda-env-python-py"
  },
  "language_info": {
   "codemirror_mode": {
    "name": "ipython",
    "version": 3
   },
   "file_extension": ".py",
   "mimetype": "text/x-python",
   "name": "python",
   "nbconvert_exporter": "python",
   "pygments_lexer": "ipython3",
   "version": "3.7.12"
  }
 },
 "nbformat": 4,
 "nbformat_minor": 4
}
